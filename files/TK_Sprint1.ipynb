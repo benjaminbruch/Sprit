{
 "cells": [
  {
   "cell_type": "code",
   "execution_count": 1,
   "id": "a0225e88",
   "metadata": {
    "scrolled": true
   },
   "outputs": [
    {
     "name": "stdout",
     "output_type": "stream",
     "text": [
      "Requirement already satisfied: pysimplegui in /Users/joerg/anaconda3/lib/python3.11/site-packages (4.60.5)\n",
      "Note: you may need to restart the kernel to use updated packages.\n"
     ]
    }
   ],
   "source": [
    "pip install pysimplegui\n",
    "pip install pytankerkoenig\n",
    "pip install geopy"
   ]
  },
  {
   "cell_type": "code",
   "execution_count": 31,
   "id": "26ca7a65",
   "metadata": {},
   "outputs": [
    {
     "name": "stdout",
     "output_type": "stream",
     "text": [
      "ok\n"
     ]
    },
    {
     "data": {
      "text/plain": [
       "<bound method Window.close of <PySimpleGUI.PySimpleGUI.Window object at 0x11009a110>>"
      ]
     },
     "execution_count": 31,
     "metadata": {},
     "output_type": "execute_result"
    }
   ],
   "source": [
    "import PySimpleGUI as sg\n",
    "import pytankerkoenig as tk\n",
    "from geopy.geocoders import Nominatim\n",
    "import json\n",
    "\n",
    "def adresse_zu_gps(adresse):\n",
    "    geolocator = Nominatim(user_agent=\"FH_SWF\")\n",
    "    location = geolocator.geocode(adresse)\n",
    "    if location:\n",
    "        return (location.latitude, location.longitude)\n",
    "    else:\n",
    "        return None\n",
    "    \n",
    "layout = [\n",
    "    [sg.Text('Entfernung'), \n",
    "     sg.Spin(['2km','5km','10km'], key = '-Distance-')\n",
    "    ],\n",
    "    [sg.Text()],\n",
    "    [sg.Text('Adresse:'),\n",
    "     sg.Input(key = '-Input-')\n",
    "    ],\n",
    "    [sg.Text('')],\n",
    "    [sg.Text('Ergebnis')],\n",
    "    [sg.Multiline(\"\", size = (150,40),disabled=True, key = \"-ML-\")],\n",
    "    [sg.Button('Suchen', key = '-Button1-')]\n",
    "]\n",
    "\n",
    "window = sg.Window('Tankstellen suchen', layout)\n",
    "\n",
    "while True:\n",
    "    event, values = window.read()\n",
    "    \n",
    "    if event == sg.WIN_CLOSED:\n",
    "        break;\n",
    "    \n",
    "    if event == '-Button1-':\n",
    "        adr = values['-Input-']\n",
    "        dist = values['-Distance-']\n",
    "\n",
    "        match values['-Distance-']:\n",
    "            case '2km':\n",
    "                dist = float(2)\n",
    "            case '5km':\n",
    "                dist = 5\n",
    "            case '10km':\n",
    "                dist = 10\n",
    "\n",
    "        lat, long = adresse_zu_gps(adr)\n",
    "\n",
    "        data = tk.getNearbyStations('532bec4c-380c-6f32-d8c7-6a11d0d8b2d5',float(lat),float(long),dist,'all','dist')\n",
    "        \n",
    "        print(data['status'])\n",
    "        \n",
    "        jsdata = (json.dumps(data, indent = 4))\n",
    "\n",
    "        window['-ML-'].update(jsdata)\n",
    "\n",
    "window.close"
   ]
  },
  {
   "cell_type": "code",
   "execution_count": null,
   "id": "685d9ed7",
   "metadata": {},
   "outputs": [],
   "source": []
  },
  {
   "cell_type": "code",
   "execution_count": null,
   "id": "274b1344",
   "metadata": {},
   "outputs": [],
   "source": []
  },
  {
   "cell_type": "code",
   "execution_count": null,
   "id": "26fb5743",
   "metadata": {},
   "outputs": [],
   "source": []
  }
 ],
 "metadata": {
  "kernelspec": {
   "display_name": "Python 3 (ipykernel)",
   "language": "python",
   "name": "python3"
  },
  "language_info": {
   "codemirror_mode": {
    "name": "ipython",
    "version": 3
   },
   "file_extension": ".py",
   "mimetype": "text/x-python",
   "name": "python",
   "nbconvert_exporter": "python",
   "pygments_lexer": "ipython3",
   "version": "3.11.5"
  }
 },
 "nbformat": 4,
 "nbformat_minor": 5
}
